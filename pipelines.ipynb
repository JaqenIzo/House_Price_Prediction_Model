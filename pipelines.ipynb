{
 "cells": [
  {
   "cell_type": "code",
   "execution_count": 2,
   "id": "4432c0ce-1932-49df-bc7a-01540b11f1c1",
   "metadata": {},
   "outputs": [],
   "source": [
    "import pandas as pd\n",
    "from sklearn.compose import ColumnTransformer\n",
    "from sklearn.pipeline import Pipeline\n",
    "from sklearn.impute import SimpleImputer\n",
    "from sklearn.preprocessing import OneHotEncoder\n",
    "from sklearn.model_selection import train_test_split\n",
    "from sklearn.metrics import mean_absolute_error\n",
    "from sklearn.ensemble import RandomForestRegressor"
   ]
  },
  {
   "cell_type": "code",
   "execution_count": 3,
   "id": "6af969ec-bf3b-48a5-a58d-7630e721ef61",
   "metadata": {},
   "outputs": [
    {
     "name": "stdout",
     "output_type": "stream",
     "text": [
      "<class 'pandas.core.frame.DataFrame'>\n",
      "RangeIndex: 1460 entries, 0 to 1459\n",
      "Data columns (total 75 columns):\n",
      " #   Column         Non-Null Count  Dtype  \n",
      "---  ------         --------------  -----  \n",
      " 0   Id             1460 non-null   int64  \n",
      " 1   MSSubClass     1460 non-null   int64  \n",
      " 2   MSZoning       1460 non-null   object \n",
      " 3   LotFrontage    1201 non-null   float64\n",
      " 4   LotArea        1460 non-null   int64  \n",
      " 5   Street         1460 non-null   object \n",
      " 6   LotShape       1460 non-null   object \n",
      " 7   LandContour    1460 non-null   object \n",
      " 8   Utilities      1460 non-null   object \n",
      " 9   LotConfig      1460 non-null   object \n",
      " 10  LandSlope      1460 non-null   object \n",
      " 11  Neighborhood   1460 non-null   object \n",
      " 12  Condition1     1460 non-null   object \n",
      " 13  Condition2     1460 non-null   object \n",
      " 14  BldgType       1460 non-null   object \n",
      " 15  HouseStyle     1460 non-null   object \n",
      " 16  OverallQual    1460 non-null   int64  \n",
      " 17  OverallCond    1460 non-null   int64  \n",
      " 18  YearBuilt      1460 non-null   int64  \n",
      " 19  YearRemodAdd   1460 non-null   int64  \n",
      " 20  RoofStyle      1460 non-null   object \n",
      " 21  RoofMatl       1460 non-null   object \n",
      " 22  Exterior1st    1460 non-null   object \n",
      " 23  Exterior2nd    1460 non-null   object \n",
      " 24  MasVnrArea     1452 non-null   float64\n",
      " 25  ExterQual      1460 non-null   object \n",
      " 26  ExterCond      1460 non-null   object \n",
      " 27  Foundation     1460 non-null   object \n",
      " 28  BsmtQual       1423 non-null   object \n",
      " 29  BsmtCond       1423 non-null   object \n",
      " 30  BsmtExposure   1422 non-null   object \n",
      " 31  BsmtFinType1   1423 non-null   object \n",
      " 32  BsmtFinSF1     1460 non-null   int64  \n",
      " 33  BsmtFinType2   1422 non-null   object \n",
      " 34  BsmtFinSF2     1460 non-null   int64  \n",
      " 35  BsmtUnfSF      1460 non-null   int64  \n",
      " 36  TotalBsmtSF    1460 non-null   int64  \n",
      " 37  Heating        1460 non-null   object \n",
      " 38  HeatingQC      1460 non-null   object \n",
      " 39  CentralAir     1460 non-null   object \n",
      " 40  Electrical     1459 non-null   object \n",
      " 41  1stFlrSF       1460 non-null   int64  \n",
      " 42  2ndFlrSF       1460 non-null   int64  \n",
      " 43  LowQualFinSF   1460 non-null   int64  \n",
      " 44  GrLivArea      1460 non-null   int64  \n",
      " 45  BsmtFullBath   1460 non-null   int64  \n",
      " 46  BsmtHalfBath   1460 non-null   int64  \n",
      " 47  FullBath       1460 non-null   int64  \n",
      " 48  HalfBath       1460 non-null   int64  \n",
      " 49  BedroomAbvGr   1460 non-null   int64  \n",
      " 50  KitchenAbvGr   1460 non-null   int64  \n",
      " 51  KitchenQual    1460 non-null   object \n",
      " 52  TotRmsAbvGrd   1460 non-null   int64  \n",
      " 53  Functional     1460 non-null   object \n",
      " 54  Fireplaces     1460 non-null   int64  \n",
      " 55  GarageType     1379 non-null   object \n",
      " 56  GarageYrBlt    1379 non-null   float64\n",
      " 57  GarageFinish   1379 non-null   object \n",
      " 58  GarageCars     1460 non-null   int64  \n",
      " 59  GarageArea     1460 non-null   int64  \n",
      " 60  GarageQual     1379 non-null   object \n",
      " 61  GarageCond     1379 non-null   object \n",
      " 62  PavedDrive     1460 non-null   object \n",
      " 63  WoodDeckSF     1460 non-null   int64  \n",
      " 64  OpenPorchSF    1460 non-null   int64  \n",
      " 65  EnclosedPorch  1460 non-null   int64  \n",
      " 66  3SsnPorch      1460 non-null   int64  \n",
      " 67  ScreenPorch    1460 non-null   int64  \n",
      " 68  PoolArea       1460 non-null   int64  \n",
      " 69  MiscVal        1460 non-null   int64  \n",
      " 70  MoSold         1460 non-null   int64  \n",
      " 71  YrSold         1460 non-null   int64  \n",
      " 72  SaleType       1460 non-null   object \n",
      " 73  SaleCondition  1460 non-null   object \n",
      " 74  SalePrice      1460 non-null   int64  \n",
      "dtypes: float64(3), int64(35), object(37)\n",
      "memory usage: 855.6+ KB\n"
     ]
    }
   ],
   "source": [
    "df = pd.read_csv('home_data_kaggle\\\\train.csv').drop(['Alley','MasVnrType','FireplaceQu','PoolQC','Fence','MiscFeature'],axis=1)\n",
    "df.info()"
   ]
  },
  {
   "cell_type": "code",
   "execution_count": 4,
   "id": "19d33af5-bd16-42cd-9921-132ec01849ea",
   "metadata": {},
   "outputs": [],
   "source": [
    "y= df.SalePrice\n",
    "X = df.drop('SalePrice',axis=1)\n",
    "\n",
    "X_train_full,X_val_full,y_train,y_val = train_test_split(X,y,test_size=0.2,train_size=0.8,random_state=0)\n",
    "\n",
    "cat_cols = [col for col in X_train_full.columns if X_train_full[col].nunique()<10 and X_train_full[col].dtype == 'object']\n",
    "num_cols = [col for col in X_train_full.columns if X_train_full[col].dtype in['int64','float64']]\n",
    "\n",
    "full_cols = cat_cols+num_cols\n",
    "\n",
    "X_train = X_train_full[full_cols].copy()\n",
    "X_val = X_val_full[full_cols].copy()"
   ]
  },
  {
   "cell_type": "code",
   "execution_count": 5,
   "id": "87c41eac-8506-4d68-ab2a-b393a6806f5e",
   "metadata": {},
   "outputs": [
    {
     "name": "stdout",
     "output_type": "stream",
     "text": [
      "<class 'pandas.core.frame.DataFrame'>\n",
      "Index: 292 entries, 529 to 61\n",
      "Data columns (total 71 columns):\n",
      " #   Column         Non-Null Count  Dtype  \n",
      "---  ------         --------------  -----  \n",
      " 0   MSZoning       292 non-null    object \n",
      " 1   Street         292 non-null    object \n",
      " 2   LotShape       292 non-null    object \n",
      " 3   LandContour    292 non-null    object \n",
      " 4   Utilities      292 non-null    object \n",
      " 5   LotConfig      292 non-null    object \n",
      " 6   LandSlope      292 non-null    object \n",
      " 7   Condition1     292 non-null    object \n",
      " 8   Condition2     292 non-null    object \n",
      " 9   BldgType       292 non-null    object \n",
      " 10  HouseStyle     292 non-null    object \n",
      " 11  RoofStyle      292 non-null    object \n",
      " 12  RoofMatl       292 non-null    object \n",
      " 13  ExterQual      292 non-null    object \n",
      " 14  ExterCond      292 non-null    object \n",
      " 15  Foundation     292 non-null    object \n",
      " 16  BsmtQual       283 non-null    object \n",
      " 17  BsmtCond       283 non-null    object \n",
      " 18  BsmtExposure   282 non-null    object \n",
      " 19  BsmtFinType1   283 non-null    object \n",
      " 20  BsmtFinType2   283 non-null    object \n",
      " 21  Heating        292 non-null    object \n",
      " 22  HeatingQC      292 non-null    object \n",
      " 23  CentralAir     292 non-null    object \n",
      " 24  Electrical     292 non-null    object \n",
      " 25  KitchenQual    292 non-null    object \n",
      " 26  Functional     292 non-null    object \n",
      " 27  GarageType     269 non-null    object \n",
      " 28  GarageFinish   269 non-null    object \n",
      " 29  GarageQual     269 non-null    object \n",
      " 30  GarageCond     269 non-null    object \n",
      " 31  PavedDrive     292 non-null    object \n",
      " 32  SaleType       292 non-null    object \n",
      " 33  SaleCondition  292 non-null    object \n",
      " 34  Id             292 non-null    int64  \n",
      " 35  MSSubClass     292 non-null    int64  \n",
      " 36  LotFrontage    245 non-null    float64\n",
      " 37  LotArea        292 non-null    int64  \n",
      " 38  OverallQual    292 non-null    int64  \n",
      " 39  OverallCond    292 non-null    int64  \n",
      " 40  YearBuilt      292 non-null    int64  \n",
      " 41  YearRemodAdd   292 non-null    int64  \n",
      " 42  MasVnrArea     290 non-null    float64\n",
      " 43  BsmtFinSF1     292 non-null    int64  \n",
      " 44  BsmtFinSF2     292 non-null    int64  \n",
      " 45  BsmtUnfSF      292 non-null    int64  \n",
      " 46  TotalBsmtSF    292 non-null    int64  \n",
      " 47  1stFlrSF       292 non-null    int64  \n",
      " 48  2ndFlrSF       292 non-null    int64  \n",
      " 49  LowQualFinSF   292 non-null    int64  \n",
      " 50  GrLivArea      292 non-null    int64  \n",
      " 51  BsmtFullBath   292 non-null    int64  \n",
      " 52  BsmtHalfBath   292 non-null    int64  \n",
      " 53  FullBath       292 non-null    int64  \n",
      " 54  HalfBath       292 non-null    int64  \n",
      " 55  BedroomAbvGr   292 non-null    int64  \n",
      " 56  KitchenAbvGr   292 non-null    int64  \n",
      " 57  TotRmsAbvGrd   292 non-null    int64  \n",
      " 58  Fireplaces     292 non-null    int64  \n",
      " 59  GarageYrBlt    269 non-null    float64\n",
      " 60  GarageCars     292 non-null    int64  \n",
      " 61  GarageArea     292 non-null    int64  \n",
      " 62  WoodDeckSF     292 non-null    int64  \n",
      " 63  OpenPorchSF    292 non-null    int64  \n",
      " 64  EnclosedPorch  292 non-null    int64  \n",
      " 65  3SsnPorch      292 non-null    int64  \n",
      " 66  ScreenPorch    292 non-null    int64  \n",
      " 67  PoolArea       292 non-null    int64  \n",
      " 68  MiscVal        292 non-null    int64  \n",
      " 69  MoSold         292 non-null    int64  \n",
      " 70  YrSold         292 non-null    int64  \n",
      "dtypes: float64(3), int64(34), object(34)\n",
      "memory usage: 164.2+ KB\n"
     ]
    }
   ],
   "source": [
    "X_val.info()"
   ]
  },
  {
   "cell_type": "code",
   "execution_count": 6,
   "id": "70be80dc-15bb-4650-9362-902259b48eca",
   "metadata": {},
   "outputs": [],
   "source": [
    "#Filling missing values in number columns\n",
    "my_imputer = SimpleImputer()\n",
    "\n",
    "#Filling missing values and encoding tex columns\n",
    "\n",
    "text_processor = Pipeline(steps=[('text_imputer',SimpleImputer(strategy='most_frequent')),\n",
    "                                ('text_encoder',OneHotEncoder(handle_unknown='ignore'))])\n"
   ]
  },
  {
   "cell_type": "code",
   "execution_count": 7,
   "id": "a98139ac-df55-4597-a88a-b5463ed1a471",
   "metadata": {},
   "outputs": [],
   "source": [
    "col_transformer = ColumnTransformer(transformers=[\n",
    "    ('num_transformer',my_imputer,num_cols),\n",
    "    ('text_transformer',text_processor,cat_cols)\n",
    "])"
   ]
  },
  {
   "cell_type": "code",
   "execution_count": 8,
   "id": "08d21076-d16a-4099-9864-a195b5c6181d",
   "metadata": {},
   "outputs": [
    {
     "name": "stdout",
     "output_type": "stream",
     "text": [
      "<class 'pandas.core.frame.DataFrame'>\n",
      "Index: 292 entries, 529 to 61\n",
      "Data columns (total 71 columns):\n",
      " #   Column         Non-Null Count  Dtype  \n",
      "---  ------         --------------  -----  \n",
      " 0   MSZoning       292 non-null    object \n",
      " 1   Street         292 non-null    object \n",
      " 2   LotShape       292 non-null    object \n",
      " 3   LandContour    292 non-null    object \n",
      " 4   Utilities      292 non-null    object \n",
      " 5   LotConfig      292 non-null    object \n",
      " 6   LandSlope      292 non-null    object \n",
      " 7   Condition1     292 non-null    object \n",
      " 8   Condition2     292 non-null    object \n",
      " 9   BldgType       292 non-null    object \n",
      " 10  HouseStyle     292 non-null    object \n",
      " 11  RoofStyle      292 non-null    object \n",
      " 12  RoofMatl       292 non-null    object \n",
      " 13  ExterQual      292 non-null    object \n",
      " 14  ExterCond      292 non-null    object \n",
      " 15  Foundation     292 non-null    object \n",
      " 16  BsmtQual       283 non-null    object \n",
      " 17  BsmtCond       283 non-null    object \n",
      " 18  BsmtExposure   282 non-null    object \n",
      " 19  BsmtFinType1   283 non-null    object \n",
      " 20  BsmtFinType2   283 non-null    object \n",
      " 21  Heating        292 non-null    object \n",
      " 22  HeatingQC      292 non-null    object \n",
      " 23  CentralAir     292 non-null    object \n",
      " 24  Electrical     292 non-null    object \n",
      " 25  KitchenQual    292 non-null    object \n",
      " 26  Functional     292 non-null    object \n",
      " 27  GarageType     269 non-null    object \n",
      " 28  GarageFinish   269 non-null    object \n",
      " 29  GarageQual     269 non-null    object \n",
      " 30  GarageCond     269 non-null    object \n",
      " 31  PavedDrive     292 non-null    object \n",
      " 32  SaleType       292 non-null    object \n",
      " 33  SaleCondition  292 non-null    object \n",
      " 34  Id             292 non-null    int64  \n",
      " 35  MSSubClass     292 non-null    int64  \n",
      " 36  LotFrontage    245 non-null    float64\n",
      " 37  LotArea        292 non-null    int64  \n",
      " 38  OverallQual    292 non-null    int64  \n",
      " 39  OverallCond    292 non-null    int64  \n",
      " 40  YearBuilt      292 non-null    int64  \n",
      " 41  YearRemodAdd   292 non-null    int64  \n",
      " 42  MasVnrArea     290 non-null    float64\n",
      " 43  BsmtFinSF1     292 non-null    int64  \n",
      " 44  BsmtFinSF2     292 non-null    int64  \n",
      " 45  BsmtUnfSF      292 non-null    int64  \n",
      " 46  TotalBsmtSF    292 non-null    int64  \n",
      " 47  1stFlrSF       292 non-null    int64  \n",
      " 48  2ndFlrSF       292 non-null    int64  \n",
      " 49  LowQualFinSF   292 non-null    int64  \n",
      " 50  GrLivArea      292 non-null    int64  \n",
      " 51  BsmtFullBath   292 non-null    int64  \n",
      " 52  BsmtHalfBath   292 non-null    int64  \n",
      " 53  FullBath       292 non-null    int64  \n",
      " 54  HalfBath       292 non-null    int64  \n",
      " 55  BedroomAbvGr   292 non-null    int64  \n",
      " 56  KitchenAbvGr   292 non-null    int64  \n",
      " 57  TotRmsAbvGrd   292 non-null    int64  \n",
      " 58  Fireplaces     292 non-null    int64  \n",
      " 59  GarageYrBlt    269 non-null    float64\n",
      " 60  GarageCars     292 non-null    int64  \n",
      " 61  GarageArea     292 non-null    int64  \n",
      " 62  WoodDeckSF     292 non-null    int64  \n",
      " 63  OpenPorchSF    292 non-null    int64  \n",
      " 64  EnclosedPorch  292 non-null    int64  \n",
      " 65  3SsnPorch      292 non-null    int64  \n",
      " 66  ScreenPorch    292 non-null    int64  \n",
      " 67  PoolArea       292 non-null    int64  \n",
      " 68  MiscVal        292 non-null    int64  \n",
      " 69  MoSold         292 non-null    int64  \n",
      " 70  YrSold         292 non-null    int64  \n",
      "dtypes: float64(3), int64(34), object(34)\n",
      "memory usage: 164.2+ KB\n"
     ]
    }
   ],
   "source": [
    "X_val.info()"
   ]
  },
  {
   "cell_type": "code",
   "execution_count": 9,
   "id": "dfee12ff-4822-46b0-94bf-f1b671d67358",
   "metadata": {},
   "outputs": [
    {
     "data": {
      "text/plain": [
       "np.float64(17466.90064728033)"
      ]
     },
     "execution_count": 9,
     "metadata": {},
     "output_type": "execute_result"
    }
   ],
   "source": [
    "my_model = RandomForestRegressor(max_leaf_nodes=500,n_estimators=100)\n",
    "\n",
    "main_pipe = Pipeline(steps=[('preprocessor',col_transformer),\n",
    "                           ('modeler',my_model)])\n",
    "main_pipe.fit(X_train,y_train)\n",
    "preds = main_pipe.predict(X_val)\n",
    "\n",
    "mea = mean_absolute_error(y_val,preds)\n",
    "mea\n",
    "\n",
    "                "
   ]
  },
  {
   "cell_type": "code",
   "execution_count": 10,
   "id": "4262e129",
   "metadata": {},
   "outputs": [
    {
     "data": {
      "text/plain": [
       "np.float64(18022.993291892028)"
      ]
     },
     "execution_count": 10,
     "metadata": {},
     "output_type": "execute_result"
    }
   ],
   "source": [
    "from sklearn.model_selection import cross_val_score\n",
    "\n",
    "score = -1 * cross_val_score(main_pipe,X,y,cv=3,scoring='neg_mean_absolute_error')\n",
    "score.mean()"
   ]
  },
  {
   "cell_type": "code",
   "execution_count": 13,
   "id": "a5f19065-5c79-45ca-bf00-a36fa8d7e45d",
   "metadata": {},
   "outputs": [
    {
     "ename": "ModuleNotFoundError",
     "evalue": "No module named 'xgboost'",
     "output_type": "error",
     "traceback": [
      "\u001b[1;31m---------------------------------------------------------------------------\u001b[0m",
      "\u001b[1;31mModuleNotFoundError\u001b[0m                       Traceback (most recent call last)",
      "Cell \u001b[1;32mIn[13], line 1\u001b[0m\n\u001b[1;32m----> 1\u001b[0m \u001b[38;5;28;01mfrom\u001b[39;00m \u001b[38;5;21;01mxgboost\u001b[39;00m \u001b[38;5;28;01mimport\u001b[39;00m XGBRegressor\n",
      "\u001b[1;31mModuleNotFoundError\u001b[0m: No module named 'xgboost'"
     ]
    }
   ],
   "source": [
    "from xgboost import XGBRegressor"
   ]
  }
 ],
 "metadata": {
  "kernelspec": {
   "display_name": "Python 3 (ipykernel)",
   "language": "python",
   "name": "python3"
  },
  "language_info": {
   "codemirror_mode": {
    "name": "ipython",
    "version": 3
   },
   "file_extension": ".py",
   "mimetype": "text/x-python",
   "name": "python",
   "nbconvert_exporter": "python",
   "pygments_lexer": "ipython3",
   "version": "3.12.4"
  }
 },
 "nbformat": 4,
 "nbformat_minor": 5
}
