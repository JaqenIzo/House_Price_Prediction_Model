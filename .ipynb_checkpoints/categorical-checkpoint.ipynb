{
 "cells": [
  {
   "cell_type": "code",
   "execution_count": 1,
   "id": "21c41c63-d853-4e46-aede-14287a7338c1",
   "metadata": {},
   "outputs": [],
   "source": [
    "import pandas as pd\n",
    "from sklearn.metrics import mean_absolute_error\n",
    "from sklearn.model_selection import train_test_split\n",
    "from sklearn.preprocessing import OrdinalEncoder\n",
    "from sklearn.ensemble import RandomForestRegressor"
   ]
  },
  {
   "cell_type": "code",
   "execution_count": null,
   "id": "a1f24e2f-de3a-487d-a4d2-b323761902d8",
   "metadata": {},
   "outputs": [],
   "source": [
    "df_train = pd.read_csv('home_data_kaggle/train.csv')\n",
    "df_train.info()"
   ]
  },
  {
   "cell_type": "code",
   "execution_count": 19,
   "id": "23ce29aa-23d3-494b-981c-e973a6165aa8",
   "metadata": {},
   "outputs": [],
   "source": [
    "y = df_train.SalePrice\n",
    "X = df_train.drop('SalePrice',axis=1)\n"
   ]
  },
  {
   "cell_type": "code",
   "execution_count": 51,
   "id": "159d0dc4-0312-4784-b179-85aeeb7a5c7f",
   "metadata": {},
   "outputs": [],
   "source": [
    "X_train_full,X_val_full,y_train,y_val  = train_test_split(X,y,train_size=0.8,test_size=0.2,random_state=0)"
   ]
  },
  {
   "cell_type": "code",
   "execution_count": null,
   "id": "c605292c-7e07-42b1-b9e2-6ef58f4583f3",
   "metadata": {},
   "outputs": [],
   "source": [
    "nulls = [col for col in df.columns if df[col].isnull().any()]\n",
    "X_train_full.drop(nulls,inplace=True)\n",
    "X_val_full.drop(nulls,inplace=True)\n",
    "\n"
   ]
  },
  {
   "cell_type": "code",
   "execution_count": 52,
   "id": "52fb68df-be25-4e62-a53e-20707ac69c3c",
   "metadata": {},
   "outputs": [],
   "source": [
    "ordinable =[col for col in X_train.columns if  X_train[col].dtype=='object' and X_train[col].nunique()<10]\n",
    "numerical = [col for col in X_train.columns if  X_train[col].dtype in['int64','float64']]\n",
    "\n",
    "\n",
    "usable_cols = ordinable+numerical\n",
    "\n",
    "X_train = X_train_full[usable] .copy()\n",
    "X_val = X_val_full[usable].copy()"
   ]
  },
  {
   "cell_type": "code",
   "execution_count": 54,
   "id": "fb794c87-caf8-4e06-b5e4-9416038f6952",
   "metadata": {},
   "outputs": [],
   "source": [
    "ordinate_train = X_train.copy()\n",
    "ordinate_val = X_val.copy()\n",
    "# ordinate_train.info()"
   ]
  },
  {
   "cell_type": "code",
   "execution_count": 55,
   "id": "a537ebf2-5898-42af-af4a-9b840370b9f0",
   "metadata": {},
   "outputs": [],
   "source": [
    "\n",
    "\n",
    "text_cols = [col for col in X_train.columns if  X_train[col].dtype=='object']\n",
    "\n",
    "good_cols = [col for col in X_train.columns if set(X_train[col]).issubset(set(X_val[col])) ]\n",
    "good_cols\n",
    "\n",
    "bad_cols = list(set(text_cols)-set(good_cols))\n",
    "\n",
    "ordinate_train.drop(bad_cols,axis=1,inplace=True)\n",
    "ordinate_val.drop(bad_cols,axis=1,inplace=True)\n"
   ]
  },
  {
   "cell_type": "code",
   "execution_count": 56,
   "id": "ccf965c3-7987-4e4f-a914-8c7689a68303",
   "metadata": {},
   "outputs": [
    {
     "ename": "KeyError",
     "evalue": "\"['Utilities', 'LandSlope', 'Condition1', 'Condition2', 'RoofStyle', 'RoofMatl', 'ExterCond', 'Foundation', 'Heating', 'HeatingQC', 'SaleType'] not in index\"",
     "output_type": "error",
     "traceback": [
      "\u001b[1;31m---------------------------------------------------------------------------\u001b[0m",
      "\u001b[1;31mKeyError\u001b[0m                                  Traceback (most recent call last)",
      "Cell \u001b[1;32mIn[56], line 3\u001b[0m\n\u001b[0;32m      1\u001b[0m my_ordinator \u001b[38;5;241m=\u001b[39m OrdinalEncoder()\n\u001b[1;32m----> 3\u001b[0m ordinate_train[text_cols] \u001b[38;5;241m=\u001b[39m  my_ordinator\u001b[38;5;241m.\u001b[39mfit_transform(\u001b[43mordinate_train\u001b[49m\u001b[43m[\u001b[49m\u001b[43mtext_cols\u001b[49m\u001b[43m]\u001b[49m)\n\u001b[0;32m      4\u001b[0m ordinate_val[text_cols] \u001b[38;5;241m=\u001b[39m my_ordinator\u001b[38;5;241m.\u001b[39mtransform(ordinate_val[text_cols])\n",
      "File \u001b[1;32mC:\\Program Files\\Python311\\Lib\\site-packages\\pandas\\core\\frame.py:3902\u001b[0m, in \u001b[0;36mDataFrame.__getitem__\u001b[1;34m(self, key)\u001b[0m\n\u001b[0;32m   3900\u001b[0m     \u001b[38;5;28;01mif\u001b[39;00m is_iterator(key):\n\u001b[0;32m   3901\u001b[0m         key \u001b[38;5;241m=\u001b[39m \u001b[38;5;28mlist\u001b[39m(key)\n\u001b[1;32m-> 3902\u001b[0m     indexer \u001b[38;5;241m=\u001b[39m \u001b[38;5;28;43mself\u001b[39;49m\u001b[38;5;241;43m.\u001b[39;49m\u001b[43mcolumns\u001b[49m\u001b[38;5;241;43m.\u001b[39;49m\u001b[43m_get_indexer_strict\u001b[49m\u001b[43m(\u001b[49m\u001b[43mkey\u001b[49m\u001b[43m,\u001b[49m\u001b[43m \u001b[49m\u001b[38;5;124;43m\"\u001b[39;49m\u001b[38;5;124;43mcolumns\u001b[39;49m\u001b[38;5;124;43m\"\u001b[39;49m\u001b[43m)\u001b[49m[\u001b[38;5;241m1\u001b[39m]\n\u001b[0;32m   3904\u001b[0m \u001b[38;5;66;03m# take() does not accept boolean indexers\u001b[39;00m\n\u001b[0;32m   3905\u001b[0m \u001b[38;5;28;01mif\u001b[39;00m \u001b[38;5;28mgetattr\u001b[39m(indexer, \u001b[38;5;124m\"\u001b[39m\u001b[38;5;124mdtype\u001b[39m\u001b[38;5;124m\"\u001b[39m, \u001b[38;5;28;01mNone\u001b[39;00m) \u001b[38;5;241m==\u001b[39m \u001b[38;5;28mbool\u001b[39m:\n",
      "File \u001b[1;32mC:\\Program Files\\Python311\\Lib\\site-packages\\pandas\\core\\indexes\\base.py:6114\u001b[0m, in \u001b[0;36mIndex._get_indexer_strict\u001b[1;34m(self, key, axis_name)\u001b[0m\n\u001b[0;32m   6111\u001b[0m \u001b[38;5;28;01melse\u001b[39;00m:\n\u001b[0;32m   6112\u001b[0m     keyarr, indexer, new_indexer \u001b[38;5;241m=\u001b[39m \u001b[38;5;28mself\u001b[39m\u001b[38;5;241m.\u001b[39m_reindex_non_unique(keyarr)\n\u001b[1;32m-> 6114\u001b[0m \u001b[38;5;28;43mself\u001b[39;49m\u001b[38;5;241;43m.\u001b[39;49m\u001b[43m_raise_if_missing\u001b[49m\u001b[43m(\u001b[49m\u001b[43mkeyarr\u001b[49m\u001b[43m,\u001b[49m\u001b[43m \u001b[49m\u001b[43mindexer\u001b[49m\u001b[43m,\u001b[49m\u001b[43m \u001b[49m\u001b[43maxis_name\u001b[49m\u001b[43m)\u001b[49m\n\u001b[0;32m   6116\u001b[0m keyarr \u001b[38;5;241m=\u001b[39m \u001b[38;5;28mself\u001b[39m\u001b[38;5;241m.\u001b[39mtake(indexer)\n\u001b[0;32m   6117\u001b[0m \u001b[38;5;28;01mif\u001b[39;00m \u001b[38;5;28misinstance\u001b[39m(key, Index):\n\u001b[0;32m   6118\u001b[0m     \u001b[38;5;66;03m# GH 42790 - Preserve name from an Index\u001b[39;00m\n",
      "File \u001b[1;32mC:\\Program Files\\Python311\\Lib\\site-packages\\pandas\\core\\indexes\\base.py:6178\u001b[0m, in \u001b[0;36mIndex._raise_if_missing\u001b[1;34m(self, key, indexer, axis_name)\u001b[0m\n\u001b[0;32m   6175\u001b[0m     \u001b[38;5;28;01mraise\u001b[39;00m \u001b[38;5;167;01mKeyError\u001b[39;00m(\u001b[38;5;124mf\u001b[39m\u001b[38;5;124m\"\u001b[39m\u001b[38;5;124mNone of [\u001b[39m\u001b[38;5;132;01m{\u001b[39;00mkey\u001b[38;5;132;01m}\u001b[39;00m\u001b[38;5;124m] are in the [\u001b[39m\u001b[38;5;132;01m{\u001b[39;00maxis_name\u001b[38;5;132;01m}\u001b[39;00m\u001b[38;5;124m]\u001b[39m\u001b[38;5;124m\"\u001b[39m)\n\u001b[0;32m   6177\u001b[0m not_found \u001b[38;5;241m=\u001b[39m \u001b[38;5;28mlist\u001b[39m(ensure_index(key)[missing_mask\u001b[38;5;241m.\u001b[39mnonzero()[\u001b[38;5;241m0\u001b[39m]]\u001b[38;5;241m.\u001b[39munique())\n\u001b[1;32m-> 6178\u001b[0m \u001b[38;5;28;01mraise\u001b[39;00m \u001b[38;5;167;01mKeyError\u001b[39;00m(\u001b[38;5;124mf\u001b[39m\u001b[38;5;124m\"\u001b[39m\u001b[38;5;132;01m{\u001b[39;00mnot_found\u001b[38;5;132;01m}\u001b[39;00m\u001b[38;5;124m not in index\u001b[39m\u001b[38;5;124m\"\u001b[39m)\n",
      "\u001b[1;31mKeyError\u001b[0m: \"['Utilities', 'LandSlope', 'Condition1', 'Condition2', 'RoofStyle', 'RoofMatl', 'ExterCond', 'Foundation', 'Heating', 'HeatingQC', 'SaleType'] not in index\""
     ]
    }
   ],
   "source": [
    "my_ordinator = OrdinalEncoder()\n",
    "\n",
    "ordinate_train[text_cols] =  my_ordinator.fit_transform(ordinate_train[text_cols])\n",
    "ordinate_val[text_cols] = my_ordinator.transform(ordinate_val[text_cols])\n",
    "\n",
    "\n"
   ]
  }
 ],
 "metadata": {
  "kernelspec": {
   "display_name": "Python 3 (ipykernel)",
   "language": "python",
   "name": "python3"
  },
  "language_info": {
   "codemirror_mode": {
    "name": "ipython",
    "version": 3
   },
   "file_extension": ".py",
   "mimetype": "text/x-python",
   "name": "python",
   "nbconvert_exporter": "python",
   "pygments_lexer": "ipython3",
   "version": "3.11.5"
  }
 },
 "nbformat": 4,
 "nbformat_minor": 5
}
