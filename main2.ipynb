{
 "cells": [
  {
   "cell_type": "code",
   "execution_count": 2,
   "id": "9b5cd5e5-2244-4d82-ad80-4c2b3cd02c15",
   "metadata": {},
   "outputs": [],
   "source": [
    "import pandas as pd\n",
    "from sklearn.ensemble import RandomForestRegressor\n",
    "from sklearn.metrics import mean_absolute_error\n",
    "from sklearn.model_selection import train_test_split"
   ]
  },
  {
   "cell_type": "code",
   "execution_count": null,
   "id": "5f428087-5f6d-4ce4-a883-f4bfa720d494",
   "metadata": {},
   "outputs": [],
   "source": [
    "df = pd.read_csv('melb_data.csv')\n",
    "df.info()"
   ]
  },
  {
   "cell_type": "code",
   "execution_count": 4,
   "id": "3cf8604e-c4ca-47a8-b371-4f145dead533",
   "metadata": {},
   "outputs": [],
   "source": [
    "y = df.Price\n",
    "\n",
    "xdf = df.drop('Price',axis=1)\n",
    "x= xdf.select_dtypes(exclude=['object'])"
   ]
  },
  {
   "cell_type": "code",
   "execution_count": null,
   "id": "a67e939e-0bca-4bf7-9764-1973dabf335b",
   "metadata": {},
   "outputs": [],
   "source": [
    "# train_X,val_X,train_y,val_y = train_test_split(x,y,train_size=0.8,test_size=0.2)\n",
    "\n",
    "# my_mod = RandomForestRegressor()\n",
    "# my_mod.fit(train_X,train_y)\n",
    "# pred = my_mod.predict(val_X)\n",
    "# mea=mean_absolute_error(val_y,pred)\n",
    "# mea\n"
   ]
  },
  {
   "cell_type": "code",
   "execution_count": 5,
   "id": "f437e115-c28c-498a-a68e-c730d15192dc",
   "metadata": {},
   "outputs": [],
   "source": [
    "train_X,val_X,train_y,val_y = train_test_split(x,y,train_size=0.8,test_size=0.2)\n",
    "\n",
    "dropped_xv = val_X.dropna(how='any',axis=1)\n",
    "dropped_xt = train_X.dropna(how='any',axis=1)"
   ]
  },
  {
   "cell_type": "code",
   "execution_count": 7,
   "id": "55748e13-0bdf-4ca8-8186-bdefd11bd468",
   "metadata": {},
   "outputs": [
    {
     "data": {
      "text/plain": [
       "178964.00064687213"
      ]
     },
     "execution_count": 7,
     "metadata": {},
     "output_type": "execute_result"
    }
   ],
   "source": [
    "def mod_test(train_X,val_X,train_y,val_y):\n",
    "    my_mod = RandomForestRegressor()\n",
    "    my_mod.fit(train_X,train_y)\n",
    "    pred = my_mod.predict(val_X)\n",
    "    mea=mean_absolute_error(val_y,pred)\n",
    "    return mea\n",
    "\n",
    "\n",
    "mod_test(dropped_xt,dropped_xv,train_y,val_y)"
   ]
  },
  {
   "cell_type": "code",
   "execution_count": 8,
   "id": "463e5847-7082-4945-9e43-f538ade1aa1a",
   "metadata": {},
   "outputs": [
    {
     "data": {
      "text/plain": [
       "173742.64797256704"
      ]
     },
     "execution_count": 8,
     "metadata": {},
     "output_type": "execute_result"
    }
   ],
   "source": [
    "from sklearn.impute import SimpleImputer\n",
    "\n",
    "imp = SimpleImputer(strategy='most_frequent')\n",
    "\n",
    "imp_xt = pd.DataFrame(imp.fit_transform(train_X),columns=train_X.columns)\n",
    "imp_xv = pd.DataFrame(imp.transform(val_X),columns=val_X.columns)\n",
    "\n",
    "# imp_xt.columns= \n",
    "# imp_xv.columns = \n",
    "\n",
    "mod_test(imp_xt,imp_xv,train_y,val_y)"
   ]
  },
  {
   "cell_type": "code",
   "execution_count": null,
   "id": "4db7ede7-9e4a-4faf-8309-abf3cef9cc6d",
   "metadata": {},
   "outputs": [],
   "source": [
    "for i in ['mean','median','most_frequent']:\n",
    "    imp = SimpleImputer(strategy=i)\n",
    "    imp_xt = pd.DataFrame(imp.fit_transform(train_X),columns=train_X.columns)\n",
    "    imp_xv = pd.DataFrame(imp.transform(val_X),columns=val_X.columns)\n",
    "    print(f'{i}: {mod_test(imp_xt,imp_xv,train_y,val_y)}')\n",
    "    \n",
    "    "
   ]
  },
  {
   "cell_type": "code",
   "execution_count": null,
   "id": "d280a1c6-8cdc-458c-8dc4-76c317e13855",
   "metadata": {},
   "outputs": [],
   "source": [
    "df2 = pd.read_csv('melb_data.csv')\n",
    "df2.head(3)"
   ]
  },
  {
   "cell_type": "code",
   "execution_count": null,
   "id": "4a03dcfa-7889-49bd-b8eb-19037e85905c",
   "metadata": {},
   "outputs": [],
   "source": []
  },
  {
   "cell_type": "code",
   "execution_count": 20,
   "id": "5f573bd7-0920-4d00-b8a8-a40b85dc51f3",
   "metadata": {},
   "outputs": [
    {
     "data": {
      "text/plain": [
       "['Rooms',\n",
       " 'Price',\n",
       " 'Distance',\n",
       " 'Postcode',\n",
       " 'Bedroom2',\n",
       " 'Bathroom',\n",
       " 'Car',\n",
       " 'Landsize',\n",
       " 'BuildingArea',\n",
       " 'YearBuilt',\n",
       " 'Lattitude',\n",
       " 'Longtitude',\n",
       " 'Propertycount']"
      ]
     },
     "execution_count": 20,
     "metadata": {},
     "output_type": "execute_result"
    }
   ],
   "source": [
    "ordinable = [col for col in df.columns if df[col].nunique()<10 and df[col].dtype =='object']\n",
    "ordinable\n",
    "\n",
    "nums = [col for col in df.columns if df[col].dtypes in ['int64','float64']]\n",
    "nums"
   ]
  },
  {
   "cell_type": "code",
   "execution_count": null,
   "id": "6c460642-f43b-4aaa-88da-61128fb0b4aa",
   "metadata": {},
   "outputs": [],
   "source": [
    "from sklearn.preprocessing import OrdinalEncoder\n",
    "\n",
    "ordinator = OrdinalEncoder()\n",
    "\n",
    "\n",
    "\n"
   ]
  },
  {
   "cell_type": "code",
   "execution_count": 16,
   "id": "2ee2d0f5-c373-4ed0-9e79-0c9c0aa3ad38",
   "metadata": {},
   "outputs": [
    {
     "data": {
      "text/plain": [
       "Index(['Suburb', 'Address', 'Type', 'Method', 'SellerG', 'Date', 'CouncilArea',\n",
       "       'Regionname'],\n",
       "      dtype='object')"
      ]
     },
     "execution_count": 16,
     "metadata": {},
     "output_type": "execute_result"
    }
   ],
   "source": [
    "s = (df.dtypes == 'object')\n",
    "s[s].index\n",
    "# df.loc[:,s[s].index]"
   ]
  },
  {
   "cell_type": "code",
   "execution_count": 26,
   "id": "063d0452-a6c0-40b5-ba74-23896298657a",
   "metadata": {},
   "outputs": [
    {
     "data": {
      "text/plain": [
       "[('Address', 13378),\n",
       " ('Longtitude', 7063),\n",
       " ('Lattitude', 6503),\n",
       " ('Price', 2204),\n",
       " ('Landsize', 1448),\n",
       " ('BuildingArea', 603),\n",
       " ('Suburb', 314),\n",
       " ('Propertycount', 311),\n",
       " ('SellerG', 268),\n",
       " ('Distance', 202),\n",
       " ('Postcode', 198),\n",
       " ('YearBuilt', 145),\n",
       " ('Date', 58),\n",
       " ('CouncilArea', 34),\n",
       " ('Bedroom2', 12),\n",
       " ('Car', 12),\n",
       " ('Rooms', 9),\n",
       " ('Bathroom', 9),\n",
       " ('Regionname', 8),\n",
       " ('Method', 5),\n",
       " ('Type', 3)]"
      ]
     },
     "execution_count": 26,
     "metadata": {},
     "output_type": "execute_result"
    }
   ],
   "source": [
    "arr = []\n",
    "all_cols = df.columns\n",
    "\n",
    "for col in all_cols:\n",
    "    arr.append((col,len(df[col].unique())))\n",
    "\n",
    "sorted(arr,key= lambda x: x[1],reverse=True)"
   ]
  }
 ],
 "metadata": {
  "kernelspec": {
   "display_name": "Python 3 (ipykernel)",
   "language": "python",
   "name": "python3"
  },
  "language_info": {
   "codemirror_mode": {
    "name": "ipython",
    "version": 3
   },
   "file_extension": ".py",
   "mimetype": "text/x-python",
   "name": "python",
   "nbconvert_exporter": "python",
   "pygments_lexer": "ipython3",
   "version": "3.11.5"
  }
 },
 "nbformat": 4,
 "nbformat_minor": 5
}
