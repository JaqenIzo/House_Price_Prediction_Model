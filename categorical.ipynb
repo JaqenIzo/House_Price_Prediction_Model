{
 "cells": [
  {
   "cell_type": "code",
   "execution_count": 113,
   "id": "21c41c63-d853-4e46-aede-14287a7338c1",
   "metadata": {},
   "outputs": [],
   "source": [
    "import pandas as pd\n",
    "from sklearn.metrics import mean_absolute_error\n",
    "from sklearn.model_selection import train_test_split\n",
    "from sklearn.preprocessing import OrdinalEncoder\n",
    "from sklearn.ensemble import RandomForestRegressor"
   ]
  },
  {
   "cell_type": "code",
   "execution_count": null,
   "id": "a1f24e2f-de3a-487d-a4d2-b323761902d8",
   "metadata": {},
   "outputs": [],
   "source": [
    "df_train = pd.read_csv('home_data_kaggle/train.csv')\n",
    "df_train.info()"
   ]
  },
  {
   "cell_type": "code",
   "execution_count": 88,
   "id": "23ce29aa-23d3-494b-981c-e973a6165aa8",
   "metadata": {},
   "outputs": [],
   "source": [
    "y = df_train.SalePrice\n",
    "X = df_train.drop('SalePrice',axis=1)\n"
   ]
  },
  {
   "cell_type": "code",
   "execution_count": 115,
   "id": "159d0dc4-0312-4784-b179-85aeeb7a5c7f",
   "metadata": {},
   "outputs": [],
   "source": [
    "X_train_full,X_val_full,y_train,y_val  = train_test_split(X,y,train_size=0.8,test_size=0.2,random_state=0)"
   ]
  },
  {
   "cell_type": "code",
   "execution_count": 116,
   "id": "c605292c-7e07-42b1-b9e2-6ef58f4583f3",
   "metadata": {},
   "outputs": [],
   "source": [
    "nulls = [col for col in df_train.columns if df_train[col].isnull().any()]\n",
    "X_train_full.drop(nulls,axis=1,inplace=True)\n",
    "X_val_full.drop(nulls,axis=1,inplace=True)\n",
    "\n"
   ]
  },
  {
   "cell_type": "code",
   "execution_count": 118,
   "id": "52fb68df-be25-4e62-a53e-20707ac69c3c",
   "metadata": {},
   "outputs": [],
   "source": [
    "ordinable =[col for col in X_train_full.columns if  X_train_full[col].dtype=='object' and X_train_full[col].nunique()<10]\n",
    "numerical = [col for col in X_train_full.columns if  X_train_full[col].dtype in['int64','float64']]\n",
    "\n",
    "\n",
    "usable_cols = ordinable+numerical\n",
    "\n",
    "X_train = X_train_full[usable_cols] .copy()\n",
    "X_val = X_val_full[usable_cols].copy()"
   ]
  },
  {
   "cell_type": "code",
   "execution_count": 129,
   "id": "a537ebf2-5898-42af-af4a-9b840370b9f0",
   "metadata": {},
   "outputs": [],
   "source": [
    "\n",
    "\n",
    "text_cols = [col for col in X_train.columns if  X_train[col].dtype=='object']\n",
    "\n",
    "good_cols = [col for col in X_train.columns if set(X_train[col]).issubset(set(X_val[col])) ]\n",
    "good_cols\n",
    "\n",
    "bad_cols = list(set(text_cols)-set(good_cols))\n",
    "\n",
    "X_train_main = X_train.drop(bad_cols,axis=1)\n",
    "X_val_main = X_val.drop(bad_cols,axis=1)\n",
    "\n",
    "ordinate_train = X_train_main.copy()\n",
    "ordinate_val = X_val_main.copy()\n"
   ]
  },
  {
   "cell_type": "code",
   "execution_count": 152,
   "id": "fa0a03bb-2a1a-4c7f-8f31-cd3e4ec62d90",
   "metadata": {},
   "outputs": [
    {
     "data": {
      "text/plain": [
       "Index([ 529,  491,  459,  279,  655, 1013, 1403,  601, 1182,  687,\n",
       "       ...\n",
       "       1301, 1427, 1402, 1223, 1029,  326,  440, 1387, 1323,   61],\n",
       "      dtype='int64', length=292)"
      ]
     },
     "execution_count": 152,
     "metadata": {},
     "output_type": "execute_result"
    }
   ],
   "source": [
    "(len(ordinate_train.columns),len(ordinate_val.columns))\n",
    "ordinate_val.index\n"
   ]
  },
  {
   "cell_type": "code",
   "execution_count": 131,
   "id": "63d10acc-3402-4077-9452-b0352c481bba",
   "metadata": {},
   "outputs": [
    {
     "data": {
      "text/plain": [
       "13"
      ]
     },
     "execution_count": 131,
     "metadata": {},
     "output_type": "execute_result"
    }
   ],
   "source": [
    "final_text_cols = [col for col in ordinate_train.columns if  ordinate_train[col].dtype=='object']\n",
    "len(final_text_cols)\n"
   ]
  },
  {
   "cell_type": "code",
   "execution_count": 132,
   "id": "ccf965c3-7987-4e4f-a914-8c7689a68303",
   "metadata": {},
   "outputs": [],
   "source": [
    "my_ordinator = OrdinalEncoder(handle_unknown ='use_encoded_value',unknown_value=-1)\n",
    "\n",
    "ordinate_train[final_text_cols] =  my_ordinator.fit_transform(X_train_main[final_text_cols])\n",
    "ordinate_val[final_text_cols] = my_ordinator.transform(X_val_main[final_text_cols])\n",
    "\n",
    "\n"
   ]
  },
  {
   "cell_type": "code",
   "execution_count": 133,
   "id": "745caca7-395f-441a-8904-fb9d5e824962",
   "metadata": {},
   "outputs": [
    {
     "data": {
      "text/plain": [
       "17526.752945205477"
      ]
     },
     "execution_count": 133,
     "metadata": {},
     "output_type": "execute_result"
    }
   ],
   "source": [
    "def encoderFunc(X_train,X_val,y_train,y_val):\n",
    "    my_mod = RandomForestRegressor()\n",
    "    my_mod.fit(X_train,y_train)\n",
    "    pred=my_mod.predict(X_val)\n",
    "    mae = mean_absolute_error(y_val,pred)\n",
    "    return mae\n",
    "\n",
    "\n",
    "encoderFunc(ordinate_train,ordinate_val,y_train,y_val)"
   ]
  },
  {
   "cell_type": "code",
   "execution_count": null,
   "id": "a26bbc3a-3f52-4f30-bc24-2b3fcc826edd",
   "metadata": {},
   "outputs": [],
   "source": []
  },
  {
   "cell_type": "code",
   "execution_count": 154,
   "id": "72389ede-86a8-422c-9156-b61702e3f68d",
   "metadata": {},
   "outputs": [],
   "source": [
    "from sklearn.preprocessing import OneHotEncoder\n",
    "\n",
    "one_hot = OneHotEncoder(handle_unknown='ignore',sparse_output=False)\n",
    "\n",
    "oh_train = pd.DataFrame(one_hot.fit_transform(ordinate_train[final_text_cols]),index=ordinate_train.index)\n",
    "oh_val = pd.DataFrame(one_hot.transform(ordinate_val[final_text_cols]),index=ordinate_val.index)\n",
    "\n",
    "\n",
    "num_oh_train = ordinate_train.drop(final_text_cols,axis=1)\n",
    "num_oh_val = ordinate_val.drop(final_text_cols,axis=1)\n",
    "\n",
    "\n",
    "\n",
    "main_oh_train = pd.concat([oh_train,num_oh_train],axis=1)\n",
    "main_oh_val = pd.concat([oh_val,num_oh_val],axis=1)\n",
    "\n",
    "main_oh_train.columns = main_oh_train.columns.astype('str')\n",
    "main_oh_val.columns = main_oh_val.columns.astype('str')\n"
   ]
  },
  {
   "cell_type": "code",
   "execution_count": 156,
   "id": "dce6172b-1ae0-4341-8fc6-d63423248446",
   "metadata": {},
   "outputs": [
    {
     "data": {
      "text/plain": [
       "17218.551506849315"
      ]
     },
     "execution_count": 156,
     "metadata": {},
     "output_type": "execute_result"
    }
   ],
   "source": [
    "encoderFunc(main_oh_train,main_oh_val,y_train,y_val)"
   ]
  },
  {
   "cell_type": "code",
   "execution_count": null,
   "id": "912a464b-1529-48ef-9e6d-587f6df7a41e",
   "metadata": {},
   "outputs": [],
   "source": []
  }
 ],
 "metadata": {
  "kernelspec": {
   "display_name": "Python 3 (ipykernel)",
   "language": "python",
   "name": "python3"
  },
  "language_info": {
   "codemirror_mode": {
    "name": "ipython",
    "version": 3
   },
   "file_extension": ".py",
   "mimetype": "text/x-python",
   "name": "python",
   "nbconvert_exporter": "python",
   "pygments_lexer": "ipython3",
   "version": "3.11.5"
  }
 },
 "nbformat": 4,
 "nbformat_minor": 5
}
